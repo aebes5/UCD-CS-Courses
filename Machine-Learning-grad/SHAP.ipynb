{
 "cells": [
  {
   "cell_type": "markdown",
   "id": "bc3805a3",
   "metadata": {},
   "source": [
    "### Introduction to SHAP Values and Explainable AI (XAI)\n",
    "\n",
    "- In machine learning, understanding **why** a model makes a specific prediction is often as crucial as the prediction itself.\n",
    "- SHAP (SHapley Additive exPlanations) is based on cooperative game theory and offers a powerful framework for explaining model predictions.\n",
    "    - The game is the prediction task for a single instance of the dataset.\n",
    "    - The players are the feature values of the instance collaborating to receive the gain.\n",
    "    - The gain is the difference between the actual prediction and the expected (average) prediction.\n",
    "    - SHAP ensures a fair distribution of this gain among features.\n",
    "    \n",
    "- SHAP attributes the model’s output to the input features, answering: *“How much did each feature contribute to this prediction?”*\n",
    "\n",
    "- SHAP original paper: https://arxiv.org/abs/1705.07874\n",
    "- SHAP library: https://shap.readthedocs.io/en/latest/ \n",
    "\n",
    "#### Decomposing the Prediction\n",
    "- SHAP decomposes a model’s prediction by attributing the difference from the expected value to individual features.\n",
    "\n",
    "\\begin{equation*} f(x) - \\mathbb{E}[f(x)] = \\phi_1 + \\phi_2 + \\dots + \\phi_p \n",
    "\\end{equation*}\n",
    "\n",
    "- **Where:**\n",
    "  - $\\phi_i$ is the Shapley value (contribution) of feature $i$.\n",
    "  - $p$ is the number of features.\n",
    "  - Each $\\phi_i$ represents the amount by which feature $i$ influences the prediction above or below the baseline.\n",
    "\n",
    "    - A negative contribution means the feature reduces the prediction relative to the baseline.\n",
    "    - A positive contribution means the feature increases the prediction relative to the baseline.\n",
    "    \n",
    "##### Understanding the Baseline (Expected Value)\n",
    "- This is the expected value of the model's predictions over the entire dataset.\n",
    "- It represents the average model output if no feature values were known.\n",
    "- Mathematically, it's the mean prediction across all training samples:\n",
    "  \n",
    "\\begin{equation*} \\mathbb{E}[f(x)] = \\frac{1}{N} \\sum_{i=1}^{N} f(x_i) \\end{equation*}\n",
    "  \n",
    "\n",
    "\n",
    "#### Mathematical Formulation of SHAP Values\n",
    "\\begin{equation*} \\phi_i = \\sum_{S \\subseteq F \\setminus \\{i\\}} \\frac{|S|!(|F|-|S|-1)!}{|F|!} \\left[f(S \\cup \\{i\\}) - f(S)\\right] \\end{equation*}\n",
    "\n",
    "- Where:\n",
    "  - $F$ is the set of all features.\n",
    "  - $S$ is a subset of features without feature $i$.\n",
    "  - $f(S)$ represents the model’s prediction using only the features in $S$\n"
   ]
  },
  {
   "cell_type": "markdown",
   "id": "cedb7cf9",
   "metadata": {},
   "source": [
    "#### Outputs for Classification Models  \n",
    "In logistic regression, the model predicts the probability of an outcome $y$ (e.g., a binary label 0 or 1) based on a linear combination of features. The relationship is expressed as:\n",
    "\n",
    "\\begin{equation*}\n",
    "\\text{log-odds}(x) = \\log \\left( \\frac{P(y = 1 \\mid x)}{P(y = 0 \\mid x)} \\right) = \\beta_0 + \\sum_{j=1}^{p} \\beta_j x_j\n",
    "\\end{equation*}\n",
    "\n",
    "Where:\n",
    "- $\\text{log-odds}(x)$: The output in log-odds space.\n",
    "- $\\beta_0$: Intercept term.\n",
    "- $\\beta_j$: Coefficients for feature $x_j$.\n",
    "- $x_j$: Feature values.\n",
    "- $p$: Number of features.\n",
    "\n",
    "- To convert log-odds to probabilities:\n",
    "\n",
    "\\begin{equation*}\n",
    "P(y = 1 \\mid x) = \\frac{1}{1 + e^{-\\text{log-odds}(x)}}\n",
    "\\end{equation*}"
   ]
  },
  {
   "cell_type": "code",
   "execution_count": 1,
   "id": "b96f4fe8",
   "metadata": {},
   "outputs": [],
   "source": [
    "### Example\n",
    "import numpy as np \n",
    "import pandas as pd\n",
    "from sklearn.datasets import load_breast_cancer\n",
    "from sklearn.model_selection import train_test_split\n",
    "from sklearn.metrics import classification_report\n",
    "\n",
    "data = load_breast_cancer(as_frame=True)"
   ]
  },
  {
   "cell_type": "code",
   "execution_count": 2,
   "id": "592360bf",
   "metadata": {},
   "outputs": [],
   "source": [
    "X = data[\"data\"]"
   ]
  },
  {
   "cell_type": "code",
   "execution_count": 3,
   "id": "36a40d08",
   "metadata": {},
   "outputs": [],
   "source": [
    "y = data[\"target\"].to_numpy()"
   ]
  },
  {
   "cell_type": "code",
   "execution_count": 4,
   "id": "05b09f70",
   "metadata": {},
   "outputs": [
    {
     "data": {
      "text/html": [
       "<div>\n",
       "<style scoped>\n",
       "    .dataframe tbody tr th:only-of-type {\n",
       "        vertical-align: middle;\n",
       "    }\n",
       "\n",
       "    .dataframe tbody tr th {\n",
       "        vertical-align: top;\n",
       "    }\n",
       "\n",
       "    .dataframe thead th {\n",
       "        text-align: right;\n",
       "    }\n",
       "</style>\n",
       "<table border=\"1\" class=\"dataframe\">\n",
       "  <thead>\n",
       "    <tr style=\"text-align: right;\">\n",
       "      <th></th>\n",
       "      <th>mean radius</th>\n",
       "      <th>mean texture</th>\n",
       "      <th>mean perimeter</th>\n",
       "      <th>mean area</th>\n",
       "      <th>mean smoothness</th>\n",
       "      <th>mean compactness</th>\n",
       "      <th>mean concavity</th>\n",
       "      <th>mean concave points</th>\n",
       "      <th>mean symmetry</th>\n",
       "      <th>mean fractal dimension</th>\n",
       "      <th>...</th>\n",
       "      <th>worst radius</th>\n",
       "      <th>worst texture</th>\n",
       "      <th>worst perimeter</th>\n",
       "      <th>worst area</th>\n",
       "      <th>worst smoothness</th>\n",
       "      <th>worst compactness</th>\n",
       "      <th>worst concavity</th>\n",
       "      <th>worst concave points</th>\n",
       "      <th>worst symmetry</th>\n",
       "      <th>worst fractal dimension</th>\n",
       "    </tr>\n",
       "  </thead>\n",
       "  <tbody>\n",
       "    <tr>\n",
       "      <th>0</th>\n",
       "      <td>17.99</td>\n",
       "      <td>10.38</td>\n",
       "      <td>122.80</td>\n",
       "      <td>1001.0</td>\n",
       "      <td>0.11840</td>\n",
       "      <td>0.27760</td>\n",
       "      <td>0.3001</td>\n",
       "      <td>0.14710</td>\n",
       "      <td>0.2419</td>\n",
       "      <td>0.07871</td>\n",
       "      <td>...</td>\n",
       "      <td>25.38</td>\n",
       "      <td>17.33</td>\n",
       "      <td>184.60</td>\n",
       "      <td>2019.0</td>\n",
       "      <td>0.1622</td>\n",
       "      <td>0.6656</td>\n",
       "      <td>0.7119</td>\n",
       "      <td>0.2654</td>\n",
       "      <td>0.4601</td>\n",
       "      <td>0.11890</td>\n",
       "    </tr>\n",
       "    <tr>\n",
       "      <th>1</th>\n",
       "      <td>20.57</td>\n",
       "      <td>17.77</td>\n",
       "      <td>132.90</td>\n",
       "      <td>1326.0</td>\n",
       "      <td>0.08474</td>\n",
       "      <td>0.07864</td>\n",
       "      <td>0.0869</td>\n",
       "      <td>0.07017</td>\n",
       "      <td>0.1812</td>\n",
       "      <td>0.05667</td>\n",
       "      <td>...</td>\n",
       "      <td>24.99</td>\n",
       "      <td>23.41</td>\n",
       "      <td>158.80</td>\n",
       "      <td>1956.0</td>\n",
       "      <td>0.1238</td>\n",
       "      <td>0.1866</td>\n",
       "      <td>0.2416</td>\n",
       "      <td>0.1860</td>\n",
       "      <td>0.2750</td>\n",
       "      <td>0.08902</td>\n",
       "    </tr>\n",
       "    <tr>\n",
       "      <th>2</th>\n",
       "      <td>19.69</td>\n",
       "      <td>21.25</td>\n",
       "      <td>130.00</td>\n",
       "      <td>1203.0</td>\n",
       "      <td>0.10960</td>\n",
       "      <td>0.15990</td>\n",
       "      <td>0.1974</td>\n",
       "      <td>0.12790</td>\n",
       "      <td>0.2069</td>\n",
       "      <td>0.05999</td>\n",
       "      <td>...</td>\n",
       "      <td>23.57</td>\n",
       "      <td>25.53</td>\n",
       "      <td>152.50</td>\n",
       "      <td>1709.0</td>\n",
       "      <td>0.1444</td>\n",
       "      <td>0.4245</td>\n",
       "      <td>0.4504</td>\n",
       "      <td>0.2430</td>\n",
       "      <td>0.3613</td>\n",
       "      <td>0.08758</td>\n",
       "    </tr>\n",
       "    <tr>\n",
       "      <th>3</th>\n",
       "      <td>11.42</td>\n",
       "      <td>20.38</td>\n",
       "      <td>77.58</td>\n",
       "      <td>386.1</td>\n",
       "      <td>0.14250</td>\n",
       "      <td>0.28390</td>\n",
       "      <td>0.2414</td>\n",
       "      <td>0.10520</td>\n",
       "      <td>0.2597</td>\n",
       "      <td>0.09744</td>\n",
       "      <td>...</td>\n",
       "      <td>14.91</td>\n",
       "      <td>26.50</td>\n",
       "      <td>98.87</td>\n",
       "      <td>567.7</td>\n",
       "      <td>0.2098</td>\n",
       "      <td>0.8663</td>\n",
       "      <td>0.6869</td>\n",
       "      <td>0.2575</td>\n",
       "      <td>0.6638</td>\n",
       "      <td>0.17300</td>\n",
       "    </tr>\n",
       "    <tr>\n",
       "      <th>4</th>\n",
       "      <td>20.29</td>\n",
       "      <td>14.34</td>\n",
       "      <td>135.10</td>\n",
       "      <td>1297.0</td>\n",
       "      <td>0.10030</td>\n",
       "      <td>0.13280</td>\n",
       "      <td>0.1980</td>\n",
       "      <td>0.10430</td>\n",
       "      <td>0.1809</td>\n",
       "      <td>0.05883</td>\n",
       "      <td>...</td>\n",
       "      <td>22.54</td>\n",
       "      <td>16.67</td>\n",
       "      <td>152.20</td>\n",
       "      <td>1575.0</td>\n",
       "      <td>0.1374</td>\n",
       "      <td>0.2050</td>\n",
       "      <td>0.4000</td>\n",
       "      <td>0.1625</td>\n",
       "      <td>0.2364</td>\n",
       "      <td>0.07678</td>\n",
       "    </tr>\n",
       "  </tbody>\n",
       "</table>\n",
       "<p>5 rows × 30 columns</p>\n",
       "</div>"
      ],
      "text/plain": [
       "   mean radius  mean texture  mean perimeter  mean area  mean smoothness  \\\n",
       "0        17.99         10.38          122.80     1001.0          0.11840   \n",
       "1        20.57         17.77          132.90     1326.0          0.08474   \n",
       "2        19.69         21.25          130.00     1203.0          0.10960   \n",
       "3        11.42         20.38           77.58      386.1          0.14250   \n",
       "4        20.29         14.34          135.10     1297.0          0.10030   \n",
       "\n",
       "   mean compactness  mean concavity  mean concave points  mean symmetry  \\\n",
       "0           0.27760          0.3001              0.14710         0.2419   \n",
       "1           0.07864          0.0869              0.07017         0.1812   \n",
       "2           0.15990          0.1974              0.12790         0.2069   \n",
       "3           0.28390          0.2414              0.10520         0.2597   \n",
       "4           0.13280          0.1980              0.10430         0.1809   \n",
       "\n",
       "   mean fractal dimension  ...  worst radius  worst texture  worst perimeter  \\\n",
       "0                 0.07871  ...         25.38          17.33           184.60   \n",
       "1                 0.05667  ...         24.99          23.41           158.80   \n",
       "2                 0.05999  ...         23.57          25.53           152.50   \n",
       "3                 0.09744  ...         14.91          26.50            98.87   \n",
       "4                 0.05883  ...         22.54          16.67           152.20   \n",
       "\n",
       "   worst area  worst smoothness  worst compactness  worst concavity  \\\n",
       "0      2019.0            0.1622             0.6656           0.7119   \n",
       "1      1956.0            0.1238             0.1866           0.2416   \n",
       "2      1709.0            0.1444             0.4245           0.4504   \n",
       "3       567.7            0.2098             0.8663           0.6869   \n",
       "4      1575.0            0.1374             0.2050           0.4000   \n",
       "\n",
       "   worst concave points  worst symmetry  worst fractal dimension  \n",
       "0                0.2654          0.4601                  0.11890  \n",
       "1                0.1860          0.2750                  0.08902  \n",
       "2                0.2430          0.3613                  0.08758  \n",
       "3                0.2575          0.6638                  0.17300  \n",
       "4                0.1625          0.2364                  0.07678  \n",
       "\n",
       "[5 rows x 30 columns]"
      ]
     },
     "execution_count": 4,
     "metadata": {},
     "output_type": "execute_result"
    }
   ],
   "source": [
    "X.head()"
   ]
  },
  {
   "cell_type": "code",
   "execution_count": 5,
   "id": "295da92a",
   "metadata": {},
   "outputs": [
    {
     "name": "stdout",
     "output_type": "stream",
     "text": [
      "              precision    recall  f1-score   support\n",
      "\n",
      "           0       0.92      0.90      0.91        63\n",
      "           1       0.94      0.95      0.95       108\n",
      "\n",
      "    accuracy                           0.94       171\n",
      "   macro avg       0.93      0.93      0.93       171\n",
      "weighted avg       0.94      0.94      0.94       171\n",
      "\n"
     ]
    }
   ],
   "source": [
    "# Split into train and test \n",
    "X_train, X_test, y_train, y_test = train_test_split(X, y, \n",
    "                                                    test_size=0.3, random_state=1)\n",
    "\n",
    "# Train a machine learning model\n",
    "from sklearn.linear_model import LogisticRegression\n",
    "clf = LogisticRegression(class_weight=\"balanced\", max_iter=10000)\n",
    "clf.fit(X_train, y_train)\n",
    "\n",
    "# Make prediction on the testing data\n",
    "y_pred = clf.predict(X_test)\n",
    "\n",
    "# Classification Report\n",
    "print(classification_report(y_test, y_pred))"
   ]
  },
  {
   "cell_type": "code",
   "execution_count": 6,
   "id": "935fb17b",
   "metadata": {},
   "outputs": [
    {
     "name": "stdout",
     "output_type": "stream",
     "text": [
      "Requirement already satisfied: shap in /home/andrewebes05/anaconda3/lib/python3.9/site-packages (0.47.0)\n",
      "Requirement already satisfied: cloudpickle in /home/andrewebes05/anaconda3/lib/python3.9/site-packages (from shap) (2.0.0)\n",
      "Requirement already satisfied: slicer==0.0.8 in /home/andrewebes05/anaconda3/lib/python3.9/site-packages (from shap) (0.0.8)\n",
      "Requirement already satisfied: numba>=0.54 in /home/andrewebes05/anaconda3/lib/python3.9/site-packages (from shap) (0.55.1)\n",
      "Requirement already satisfied: scikit-learn in /home/andrewebes05/anaconda3/lib/python3.9/site-packages (from shap) (1.0.2)\n",
      "Requirement already satisfied: scipy in /home/andrewebes05/anaconda3/lib/python3.9/site-packages (from shap) (1.7.3)\n",
      "Requirement already satisfied: packaging>20.9 in /home/andrewebes05/anaconda3/lib/python3.9/site-packages (from shap) (21.3)\n",
      "Requirement already satisfied: tqdm>=4.27.0 in /home/andrewebes05/anaconda3/lib/python3.9/site-packages (from shap) (4.64.0)\n",
      "Requirement already satisfied: pandas in /home/andrewebes05/anaconda3/lib/python3.9/site-packages (from shap) (1.4.2)\n",
      "Requirement already satisfied: numpy in /home/andrewebes05/anaconda3/lib/python3.9/site-packages (from shap) (1.21.5)\n",
      "Requirement already satisfied: typing-extensions in /home/andrewebes05/anaconda3/lib/python3.9/site-packages (from shap) (4.1.1)\n",
      "Requirement already satisfied: setuptools in /home/andrewebes05/anaconda3/lib/python3.9/site-packages (from numba>=0.54->shap) (61.2.0)\n",
      "Requirement already satisfied: llvmlite<0.39,>=0.38.0rc1 in /home/andrewebes05/anaconda3/lib/python3.9/site-packages (from numba>=0.54->shap) (0.38.0)\n",
      "Requirement already satisfied: pyparsing!=3.0.5,>=2.0.2 in /home/andrewebes05/anaconda3/lib/python3.9/site-packages (from packaging>20.9->shap) (3.0.4)\n",
      "Requirement already satisfied: python-dateutil>=2.8.1 in /home/andrewebes05/anaconda3/lib/python3.9/site-packages (from pandas->shap) (2.8.2)\n",
      "Requirement already satisfied: pytz>=2020.1 in /home/andrewebes05/anaconda3/lib/python3.9/site-packages (from pandas->shap) (2021.3)\n",
      "Requirement already satisfied: six>=1.5 in /home/andrewebes05/anaconda3/lib/python3.9/site-packages (from python-dateutil>=2.8.1->pandas->shap) (1.16.0)\n",
      "Requirement already satisfied: joblib>=0.11 in /home/andrewebes05/anaconda3/lib/python3.9/site-packages (from scikit-learn->shap) (1.1.0)\n",
      "Requirement already satisfied: threadpoolctl>=2.0.0 in /home/andrewebes05/anaconda3/lib/python3.9/site-packages (from scikit-learn->shap) (2.2.0)\n"
     ]
    }
   ],
   "source": [
    "!pip install shap\n",
    "import shap \n",
    "\n",
    "explainer = shap.Explainer(clf, X_train)\n",
    "\n",
    "shap_values = explainer(X_test)"
   ]
  },
  {
   "cell_type": "markdown",
   "id": "a3e686c3",
   "metadata": {},
   "source": [
    "- Line 1: `explainer = shap.Explainer(clf, X_train)`\n",
    "\n",
    "    - `shap.Explainer(...)`: This is the core function from the SHAP library that creates an \"explainer\" object. The explainer's job is to calculate the contribution of each feature to the model's predictions.\n",
    "    - `clf`: This represents your trained machine learning model (classifier). It could be any model supported by SHAP, such as a scikit-learn model (e.g., RandomForestClassifier, GradientBoostingClassifier), XGBoost, LightGBM, or others.\n",
    "    - `X_train`: This is your training dataset, which is crucial for the explainer to understand the baseline behavior of your model. SHAP needs to know how the model behaves on typical data to determine how much each feature contributes to deviations from that baseline.\n",
    "    \n",
    "- Line 2: `shap_values = explainer(X_test)`\n",
    "\n",
    "    - `explainer(...)`: This calls the explainer object created in the previous line. It's like asking the explainer to do its job.\n",
    "    - `X_test`: This is your test dataset (or any dataset you want to explain). The explainer will calculate the SHAP values for each sample in this dataset.\n",
    "    - shap_values: This variable will hold the results of the SHAP calculations."
   ]
  },
  {
   "cell_type": "code",
   "execution_count": 7,
   "id": "40b953f5",
   "metadata": {},
   "outputs": [
    {
     "data": {
      "text/plain": [
       "(171, 30)"
      ]
     },
     "execution_count": 7,
     "metadata": {},
     "output_type": "execute_result"
    }
   ],
   "source": [
    "shap_values.values.shape"
   ]
  },
  {
   "cell_type": "code",
   "execution_count": 8,
   "id": "7f814e07",
   "metadata": {},
   "outputs": [
    {
     "data": {
      "text/plain": [
       "array([ 3.53250057e-01, -7.91258727e-01, -2.76013562e+00,  1.26337187e+00,\n",
       "       -5.37037930e-04, -8.30044412e-03, -1.80158161e-02, -2.89339153e-03,\n",
       "       -4.42258945e-03, -9.33070266e-05, -9.35942015e-03,  1.07085451e-01,\n",
       "        3.70333930e-01, -9.58867590e-01, -6.03364734e-05,  1.08000661e-03,\n",
       "       -9.04602615e-04, -1.35386598e-04, -5.21099962e-05,  1.59060849e-05,\n",
       "       -1.00998013e-01,  2.39660630e+00, -1.58188144e+00,  3.20811439e-01,\n",
       "        3.18438084e-04, -4.70281812e-02, -4.47660441e-02,  9.85307101e-05,\n",
       "        2.67489963e-03, -2.96385929e-04])"
      ]
     },
     "execution_count": 8,
     "metadata": {},
     "output_type": "execute_result"
    }
   ],
   "source": [
    "shap_values.values[0]"
   ]
  },
  {
   "cell_type": "code",
   "execution_count": 9,
   "id": "b1ced87b",
   "metadata": {},
   "outputs": [
    {
     "data": {
      "image/png": "[encoded data removed]",
      "text/plain": [
       "<Figure size 576x684 with 1 Axes>"
      ]
     },
     "metadata": {
      "needs_background": "light"
     },
     "output_type": "display_data"
    }
   ],
   "source": [
    "shap.summary_plot(shap_values, X_test, plot_type=\"bar\")"
   ]
  },
  {
   "cell_type": "markdown",
   "id": "2cf9d95e",
   "metadata": {},
   "source": [
    "- Bar Length: The length of each bar corresponds to the average absolute SHAP value for that feature. Longer bars indicate features with higher importance.\n",
    "- Feature Ordering: The features are typically ordered from the most important (top) to the least important (bottom)."
   ]
  },
  {
   "cell_type": "code",
   "execution_count": 10,
   "id": "ff76a575",
   "metadata": {},
   "outputs": [
    {
     "data": {
      "image/png": "[encoded data removed]",
      "text/plain": [
       "<Figure size 576x1080 with 1 Axes>"
      ]
     },
     "metadata": {
      "needs_background": "light"
     },
     "output_type": "display_data"
    }
   ],
   "source": [
    "# What if we use the model parameters/coefficients? \n",
    "\n",
    "import matplotlib.pyplot as plt\n",
    "\n",
    "coefficients = clf.coef_[0]  # Get the coefficients\n",
    "feature_names = X_train.columns\n",
    "\n",
    "# Calculate absolute values of coefficients\n",
    "abs_coefficients = np.abs(coefficients)\n",
    "\n",
    "# Sort coefficients and feature names by absolute coefficient values\n",
    "sorted_indices = np.argsort(abs_coefficients)\n",
    "sorted_coefficients = abs_coefficients[sorted_indices]\n",
    "sorted_feature_names = feature_names[sorted_indices]\n",
    "\n",
    "# Create the horizontal bar plot\n",
    "plt.figure(figsize=(8, len(feature_names) * 0.5))  # Adjust figure size based on number of features\n",
    "plt.barh(sorted_feature_names, sorted_coefficients)\n",
    "plt.xlabel(\"Absolute Coefficient Value\")\n",
    "plt.ylabel(\"Feature\")\n",
    "plt.tight_layout() \n",
    "plt.show()"
   ]
  },
  {
   "cell_type": "code",
   "execution_count": null,
   "id": "c3658145",
   "metadata": {},
   "outputs": [],
   "source": []
  },
  {
   "cell_type": "code",
   "execution_count": null,
   "id": "fd41dfa7",
   "metadata": {},
   "outputs": [],
   "source": []
  },
  {
   "cell_type": "code",
   "execution_count": null,
   "id": "200ebc4d",
   "metadata": {},
   "outputs": [],
   "source": []
  }
 ],
 "metadata": {
  "kernelspec": {
   "display_name": "Python 3 (ipykernel)",
   "language": "python",
   "name": "python3"
  },
  "language_info": {
   "codemirror_mode": {
    "name": "ipython",
    "version": 3
   },
   "file_extension": ".py",
   "mimetype": "text/x-python",
   "name": "python",
   "nbconvert_exporter": "python",
   "pygments_lexer": "ipython3",
   "version": "3.9.12"
  }
 },
 "nbformat": 4,
 "nbformat_minor": 5
}
