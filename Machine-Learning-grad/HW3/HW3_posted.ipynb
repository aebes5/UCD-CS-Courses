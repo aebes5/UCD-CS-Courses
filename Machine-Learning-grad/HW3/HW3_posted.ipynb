{
  "cells": [
    {
      "cell_type": "markdown",
      "id": "c44f4ac9",
      "metadata": {
        "id": "c44f4ac9"
      },
      "source": [
        "## MATH 4/5388: Machine Learning Methods\n",
        "## Homework 3\n",
        "### Due date: Thursday, March 6\n",
        "\n",
        "#### Submission Instruction:\n",
        "* Submit both the Jupyter notebook file (.ipynb) and a PDF copy of the notebook.\n",
        "* Ensure that your notebook runs properly before submitting it:\n",
        "    * Kernel -> Restart & Run All to ensure that there are no errors.\n",
        "* To generate a PDF of your notebook:\n",
        "    * File -> Print Preview followed by printing to a PDF from your browser;\n",
        "    or:\n",
        "    * File -> Download as -> PDF via LaTeX.\n",
        "* If this doesn’t work, try first exporting as an HTML file and then converting that to PDF (load it in a web browser and print it to PDF)."
      ]
    },
    {
      "cell_type": "markdown",
      "id": "ee67399e",
      "metadata": {
        "id": "ee67399e"
      },
      "source": [
        "---\n",
        "### Problem 1 (40 points)\n",
        "\n",
        "Suppose that you wish to classify an observation $X \\in \\mathbb{R}$ into apples and oranges. You fit a logistic regression model and find that:\n",
        "\n",
        "\\begin{equation*}\n",
        "P(Y = \\text{orange} | X = x) = \\frac{\\exp(\\hat{\\beta}_0 + \\hat{\\beta}_1 x)}{1 + \\exp(\\hat{\\beta}_0 + \\hat{\\beta}_1 x)}\n",
        "\\end{equation*}\n",
        "\n",
        "Your friend fits a logistic regression model to the same data using the softmax formulation, and finds that:\n",
        "\n",
        "\\begin{equation*}\n",
        "P(Y = \\text{orange} | X = x) = \\frac{\\exp(\\hat{\\alpha}_{\\text{orange},0} + \\hat{\\alpha}_{\\text{orange},1} x)}{\\exp(\\hat{\\alpha}_{\\text{orange},0} + \\hat{\\alpha}_{\\text{orange},1} x) + \\exp(\\hat{\\alpha}_{\\text{apple},0} + \\hat{\\alpha}_{\\text{apple},1} x)}\n",
        "\\end{equation*}\n",
        "\n",
        "The **log odds** (or logit) of an event is defined as the natural logarithm of the odds, where the odds are given by the ratio of the probability of the event occurring to the probability of it not occurring:\n",
        "\n",
        "\\begin{equation*}\n",
        "\\text{log odds} = \\log \\left( \\frac{P(Y = \\text{orange} | X = x)}{P(Y = \\text{apple} | X = x)} \\right)\n",
        "\\end{equation*}\n",
        "\n",
        "where:\n",
        "\n",
        "\\begin{equation*}\n",
        "P(Y = \\text{apple} | X = x) = 1 - P(Y = \\text{orange} | X = x)\n",
        "\\end{equation*}\n",
        "\n",
        "In other words, the log odds measure how much more likely one class is compared to the other on a logarithmic scale.\n",
        "\n",
        "### Questions\n",
        "\n",
        "- (a) What is the log odds of orange versus apple in your model? [MATH 4388 and 5388]\n",
        "\n",
        "- (b)  What is the log odds of orange versus apple in your friend’s model? [MATH 4388 and 5388]\n",
        "\n",
        "- (c)  Suppose that in your model, $\\hat{\\beta}_0 = 2$ and $\\hat{\\beta}_1 = -1$. What are the coefficient estimates in your friend’s model? Be as specific as possible. [MATH 5388]\n",
        "\n",
        "- (d) Now suppose that you and your friend fit the same two models on a different data set. This time, your friend gets the coefficient estimates. What are the coefficient estimates in your model? [MATH 5388]\n",
        "\n",
        "\\begin{equation*}\n",
        "\\hat{\\alpha}_{\\text{orange},0} = 1.2, \\quad \\hat{\\alpha}_{\\text{orange},1} = -2\n",
        "\\end{equation*}\n",
        "\n",
        "\\begin{equation*}\n",
        "\\hat{\\alpha}_{\\text{apple},0} = 3, \\quad \\hat{\\alpha}_{\\text{apple},1} = 0.6\n",
        "\\end{equation*}\n",
        "\n"
      ]
    },
    {
      "cell_type": "markdown",
      "source": [
        "![Question1](https://drive.google.com/uc?id=1tr_IDQC2N2xBGcN2b_DlQTUfthiQfyn9)"
      ],
      "metadata": {
        "id": "IECoIYR4vaxW"
      },
      "id": "IECoIYR4vaxW"
    },
    {
      "cell_type": "markdown",
      "id": "8978d59e",
      "metadata": {
        "id": "8978d59e"
      },
      "source": [
        "---\n",
        "### Problem 2 (20 points)\n"
      ]
    },
    {
      "cell_type": "markdown",
      "id": "7c57d862",
      "metadata": {
        "id": "7c57d862"
      },
      "source": [
        "We collect data for a group of students in a machine learning class with the following variables:\n",
        "\n",
        "- $X_1$ = hours studied\n",
        "- $X_2$ =  GPA\n",
        "- $Y = 1$ if the student receives an A, 0 otherwise\n",
        "\n",
        "A logistic regression model is fit, and the estimated coefficients are:\n",
        "\n",
        "\\begin{equation*}\n",
        "\\hat{\\beta}_0 = -6, \\quad \\hat{\\beta}_1 = 0.05, \\quad \\hat{\\beta}_2 = 1.\n",
        "\\end{equation*}\n",
        "\n",
        "The logistic regression model estimates the probability of receiving an A as:\n",
        "\n",
        "\\begin{equation*}\n",
        "P(Y = 1 | X_1, X_2) = \\frac{\\exp(\\hat{\\beta}_0 + \\hat{\\beta}_1 X_1 + \\hat{\\beta}_2 X_2)}{1 + \\exp(\\hat{\\beta}_0 + \\hat{\\beta}_1 X_1 + \\hat{\\beta}_2 X_2)}\n",
        "\\end{equation*}\n",
        "\n",
        "### Questions\n",
        "\n",
        "- (a) Estimate the probability that a student who studies for 40 hours and has an undergraduate GPA of 3.5 gets an A.\n",
        "\n",
        "- (b) Find the number of hours $X_1$ a student with a GPA of 3.5 must study to have a 50% chance of receiving an A."
      ]
    },
    {
      "cell_type": "markdown",
      "source": [
        "![Question2](https://drive.google.com/uc?id=1UEVufBxgwRsR8VaL4wD2iCCq82cWJ16a)"
      ],
      "metadata": {
        "id": "xh_lGYznvhwm"
      },
      "id": "xh_lGYznvhwm"
    },
    {
      "cell_type": "markdown",
      "id": "e87a8959",
      "metadata": {
        "id": "e87a8959"
      },
      "source": [
        "### Problem 3 (40 points)"
      ]
    },
    {
      "cell_type": "markdown",
      "id": "7289154c",
      "metadata": {
        "id": "7289154c"
      },
      "source": [
        "In this assignment, you will work with the Breast Cancer dataset from `sklearn.datasets`. Your task is to:\n",
        "1. Load the dataset and split it into training and testing sets.\n",
        "2. Train a Logistic Regression model to classify whether a tumor is malignant or benign.\n",
        "3. Evaluate the model's performance using classification metrics.\n",
        "4. Visualize the Precision-Recall Curve.\n",
        "\n",
        "### Questions\n",
        "\n",
        "- (a) Use `sklearn.datasets.load_breast_cancer` to load the dataset and perform the following steps:\n",
        "\n",
        "    - Extract the input features and target labels.\n",
        "    - What are the labels for Malignant (M) and Benign (B) classes?\n",
        "    - Split the data into 80% training and 20% testing using `train_test_split` from `sklearn.model_selection` with `random_state=12` for reproducibility.\n",
        "    - Print the number of samples in the training and test sets.\n",
        "\n",
        "- (b) Train a Logistic Regression model using `sklearn.linear_model.LogisticRegression` with `solver=\"liblinear\"`.\n",
        "    - Fit the model using the training data.\n",
        "    - Print the model’s coefficients and intercept.\n",
        "\n",
        "- (c) Compute the following metrics on the test set:\n",
        "    - Confusion Matrix with suitable labels (Malignant and Benign)\n",
        "    - Classification Accuracy\n",
        "    - Precision\n",
        "    - Recall\n",
        "    - F1-score\n",
        "\n",
        "- (d) Plot the Precision-Recall Curve.\n"
      ]
    },
    {
      "cell_type": "code",
      "source": [
        "from sklearn.datasets import load_breast_cancer\n",
        "\n",
        "breast_cancer = load_breast_cancer()\n",
        "\n",
        "list(breast_cancer)"
      ],
      "metadata": {
        "id": "jvqJkHPNlJHN",
        "colab": {
          "base_uri": "https://localhost:8080/",
          "height": 0
        },
        "outputId": "c8cfa56b-f733-4545-f0e4-a741fee2a6b7"
      },
      "id": "jvqJkHPNlJHN",
      "execution_count": 1,
      "outputs": [
        {
          "output_type": "execute_result",
          "data": {
            "text/plain": [
              "['data',\n",
              " 'target',\n",
              " 'frame',\n",
              " 'target_names',\n",
              " 'DESCR',\n",
              " 'feature_names',\n",
              " 'filename',\n",
              " 'data_module']"
            ]
          },
          "metadata": {},
          "execution_count": 1
        }
      ]
    },
    {
      "cell_type": "code",
      "source": [
        "input_features = breast_cancer['feature_names']\n",
        "target_labels = breast_cancer['target_names']\n",
        "\n",
        "target_labels"
      ],
      "metadata": {
        "colab": {
          "base_uri": "https://localhost:8080/",
          "height": 0
        },
        "id": "3ko8aWMsq7Tx",
        "outputId": "a180bdfa-7932-4ed0-912a-bebca64ce697"
      },
      "id": "3ko8aWMsq7Tx",
      "execution_count": 2,
      "outputs": [
        {
          "output_type": "execute_result",
          "data": {
            "text/plain": [
              "array(['malignant', 'benign'], dtype='<U9')"
            ]
          },
          "metadata": {},
          "execution_count": 2
        }
      ]
    },
    {
      "cell_type": "code",
      "source": [
        "from sklearn.model_selection import train_test_split\n",
        "\n",
        "X, y = breast_cancer.data, breast_cancer.target\n",
        "\n",
        "X_train, X_test, y_train, y_test = train_test_split(X, y, test_size=0.2, random_state=12)\n",
        "\n",
        "print(len(X_train))\n",
        "print(len(X_test))"
      ],
      "metadata": {
        "colab": {
          "base_uri": "https://localhost:8080/",
          "height": 0
        },
        "id": "_c9svGxrsa01",
        "outputId": "29d188e8-e1a1-4aad-ffcd-d83d4a0c6ced"
      },
      "id": "_c9svGxrsa01",
      "execution_count": 3,
      "outputs": [
        {
          "output_type": "stream",
          "name": "stdout",
          "text": [
            "455\n",
            "114\n"
          ]
        }
      ]
    },
    {
      "cell_type": "code",
      "source": [
        "from sklearn.linear_model import LogisticRegression\n",
        "\n",
        "model = LogisticRegression(solver=\"liblinear\")\n",
        "model.fit(X, y)\n",
        "\n",
        "slope = model.coef_[0]\n",
        "intercept = model.intercept_\n",
        "\n",
        "print(f\"Slope (w): {slope}\")\n",
        "print(f\"Intercept (w_0): {intercept}\")"
      ],
      "metadata": {
        "colab": {
          "base_uri": "https://localhost:8080/",
          "height": 0
        },
        "id": "rsTF9G9j0vVM",
        "outputId": "90d94d6e-2ce0-461c-a489-2672dfcd3824"
      },
      "id": "rsTF9G9j0vVM",
      "execution_count": 4,
      "outputs": [
        {
          "output_type": "stream",
          "name": "stdout",
          "text": [
            "Slope (w): [ 2.11743172  0.10755408 -0.0712765  -0.0026603  -0.15483586 -0.40708918\n",
            " -0.64915655 -0.34200387 -0.22674871 -0.02632768 -0.02244492  1.27564669\n",
            "  0.01689512 -0.09518242 -0.01687969  0.00312509 -0.04899734 -0.04026179\n",
            " -0.0425205   0.00622276  1.26583663 -0.33748624 -0.11918295 -0.02466934\n",
            " -0.28685003 -1.15896635 -1.60323245 -0.65926289 -0.69729742 -0.1166056 ]\n",
            "Intercept (w_0): [0.39698113]\n"
          ]
        }
      ]
    },
    {
      "cell_type": "code",
      "source": [
        "from sklearn.metrics import ConfusionMatrixDisplay\n",
        "import matplotlib.pyplot as plt\n",
        "\n",
        "y_pred = model.predict(X_test)\n",
        "\n",
        "plt.rcParams.update({'font.size': 14, \"figure.figsize\": (5,3)})\n",
        "\n",
        "ConfusionMatrixDisplay.from_predictions(y_test, y_pred)\n",
        "\n",
        "plt.show()"
      ],
      "metadata": {
        "colab": {
          "base_uri": "https://localhost:8080/",
          "height": 321
        },
        "id": "e43hQKWF2eKy",
        "outputId": "b3dc9fc7-37a8-496f-8fc0-1249479171b8"
      },
      "id": "e43hQKWF2eKy",
      "execution_count": 5,
      "outputs": [
        {
          "output_type": "display_data",
          "data": {
            "text/plain": [
              "<Figure size 500x300 with 2 Axes>"
            ],
            "image/png": "[encoded data removed]"
          },
          "metadata": {}
        }
      ]
    },
    {
      "cell_type": "code",
      "source": [
        "from sklearn.metrics import precision_score, recall_score, f1_score\n",
        "from sklearn.model_selection import cross_val_score\n",
        "\n",
        "cross_val = cross_val_score(model, X_train, y_train, cv=5, scoring=\"accuracy\")\n",
        "prec = precision_score(y_test, y_pred)\n",
        "rec = recall_score(y_test, y_pred)\n",
        "f1 = f1_score(y_test, y_pred)\n",
        "\n",
        "print(\"Accuracy:\", cross_val.mean())\n",
        "print(\"Precision: %0.2f\" %prec)\n",
        "print(\"Recall: %0.2f\" %rec)\n",
        "print(\"F1: %0.2f\" %f1)"
      ],
      "metadata": {
        "colab": {
          "base_uri": "https://localhost:8080/",
          "height": 0
        },
        "id": "_c-PqrRg3DQn",
        "outputId": "04e21e93-c72e-41de-8eb2-45899e78a504"
      },
      "id": "_c-PqrRg3DQn",
      "execution_count": 6,
      "outputs": [
        {
          "output_type": "stream",
          "name": "stdout",
          "text": [
            "Accuracy: 0.9516483516483516\n",
            "Precision: 0.92\n",
            "Recall: 1.00\n",
            "F1: 0.96\n"
          ]
        }
      ]
    },
    {
      "cell_type": "code",
      "source": [
        "from sklearn.metrics import PrecisionRecallDisplay\n",
        "\n",
        "plt.rcParams.update({'font.size': 12, \"figure.figsize\": (7,6)})\n",
        "\n",
        "PrecisionRecallDisplay.from_estimator(model, X_test, y_test)\n",
        "\n",
        "plt.scatter(recall_score(y_test, y_pred), precision_score(y_test, y_pred), c = 'r', s=50)\n",
        "\n",
        "plt.grid()\n",
        "\n",
        "plt.show()"
      ],
      "metadata": {
        "colab": {
          "base_uri": "https://localhost:8080/",
          "height": 552
        },
        "id": "vLWA5suL30WL",
        "outputId": "db816600-d840-42da-e1c8-79f34f9ba7be"
      },
      "id": "vLWA5suL30WL",
      "execution_count": 7,
      "outputs": [
        {
          "output_type": "display_data",
          "data": {
            "text/plain": [
              "<Figure size 700x600 with 1 Axes>"
            ],
            "image/png": "[encoded data removed]"
          },
          "metadata": {}
        }
      ]
    }
  ],
  "metadata": {
    "kernelspec": {
      "display_name": "Python 3",
      "name": "python3"
    },
    "language_info": {
      "name": "python"
    },
    "colab": {
      "provenance": []
    }
  },
  "nbformat": 4,
  "nbformat_minor": 5
}