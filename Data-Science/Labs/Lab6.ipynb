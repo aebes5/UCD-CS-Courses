{
 "cells": [
  {
   "cell_type": "markdown",
   "metadata": {},
   "source": [
    "<img src=\"Branded_Logo_CUDenver.PNG\" width=\"150\">\n",
    "\n",
    "## <center>CSCI 4580/5580 – Data Science – Spring 2025</center>\n",
    "<center>Lab 6: kNN and Naive Bayes</center><center><font color='red'>Deadline: March 21, 2025 - 11:59 PM</font></center><center>Total Points: 100</center>"
   ]
  },
  {
   "cell_type": "markdown",
   "metadata": {},
   "source": [
    "## Instructions\n",
    "- Please note that this lab must be done individually. By submitting this lab, you certify that this is your own work, your code will be checked against other submissions and resources using automatic tools. Everyone should be getting a hands on experience in this course. You are free to discuss course material with fellow students, and we encourage you to use Internet resources to aid your understanding, but the work you turn in, including all code and answers, must be your own work."
   ]
  },
  {
   "cell_type": "markdown",
   "metadata": {},
   "source": [
    "## Deliverables\n",
    "You need to submit a single .ipynb file on Canvas, named your-lastname_your-first-name.ipynb. For example, if your name is John Smith, you should name the file smith_john.ipynb.\n",
    "- Please do not include extra files such as the input datasets in your submission.\n",
    "- Answer Questions 1 - 11 in the designated cells. Please do not add or remove any cells. \n",
    "- Please download your submission file after submission and make sure it is not corrupted. Use the 'Run All' option from the 'Cell' menu to ensure all cells run without any issues. We will not be responsible for corrupted submissions and will not take a resubmission after the deadline."
   ]
  },
  {
   "cell_type": "markdown",
   "metadata": {},
   "source": [
    "## Need Help?\n",
    "If you need help with this lab, please email me at sundous.hussein@ucdenver.edu or come to my office hours. We also encourage you to ask your questions on the designated channel for the lab on Microsoft Teams. This way, you may receive assistance from your classmates that might’ve ran through the same issues."
   ]
  },
  {
   "cell_type": "markdown",
   "metadata": {},
   "source": [
    "****"
   ]
  },
  {
   "cell_type": "markdown",
   "metadata": {},
   "source": [
    "**Before you Start** This lab involves some computing on modest datasets. You should have at least 1.5 GB of available RAM. If that's not possible, you'll have to shrink the datasets (reduce the number of columns) to be able to run it.\n",
    "\n",
    "For this lab, we'll use a dataset of hand-written digit images called MNIST. You can download the dataset from Canvas if you have not already done so.\n",
    "\n",
    "The data comprises a train and test set, and train and test labels (ictrain and ictest). \n",
    "\n",
    "We'll be using numpy for this part of the lab so lets import it:"
   ]
  },
  {
   "cell_type": "code",
   "execution_count": 1,
   "metadata": {},
   "outputs": [],
   "source": [
    "import numpy as np\n",
    "import matplotlib.pyplot as plt\n",
    "%matplotlib inline"
   ]
  },
  {
   "cell_type": "markdown",
   "metadata": {},
   "source": [
    "We can read matrices in text format with numpy's loadtxt command. Text file input is slow, so this may take a few seconds."
   ]
  },
  {
   "cell_type": "code",
   "execution_count": 2,
   "metadata": {},
   "outputs": [],
   "source": [
    "train0=np.loadtxt(\"train.fmat.txt\")"
   ]
  },
  {
   "cell_type": "markdown",
   "metadata": {},
   "source": [
    "Lets look at the shape of this matrix:"
   ]
  },
  {
   "cell_type": "code",
   "execution_count": 3,
   "metadata": {},
   "outputs": [
    {
     "data": {
      "text/plain": [
       "(784, 4000)"
      ]
     },
     "execution_count": 3,
     "metadata": {},
     "output_type": "execute_result"
    }
   ],
   "source": [
    "train0.shape"
   ]
  },
  {
   "cell_type": "markdown",
   "metadata": {},
   "source": [
    "The columns of the matrix are 28 * 28 images. Since we had to read the data from a 2d array, the structure is different. Let's look at one of the images. We'll also convert it to a matrix, so that more mathematical operators are defined on it. If you have trouble running the lab, reduce the dataset size by decreasing the column bound from 4000 below. "
   ]
  },
  {
   "cell_type": "code",
   "execution_count": 4,
   "metadata": {},
   "outputs": [],
   "source": [
    "train = np.asmatrix(train0[:,0:4000]) # <- decrease 4000 if memory is limited (optional)"
   ]
  },
  {
   "cell_type": "markdown",
   "metadata": {},
   "source": [
    "and we'll save the number of training examples for later:"
   ]
  },
  {
   "cell_type": "code",
   "execution_count": 5,
   "metadata": {},
   "outputs": [
    {
     "data": {
      "text/plain": [
       "4000"
      ]
     },
     "execution_count": 5,
     "metadata": {},
     "output_type": "execute_result"
    }
   ],
   "source": [
    "ntrain = train.shape[1];ntrain"
   ]
  },
  {
   "cell_type": "markdown",
   "metadata": {},
   "source": [
    "We can take any of the columns of the array, and reshape it to a 28 x 28 matrix:"
   ]
  },
  {
   "cell_type": "code",
   "execution_count": 6,
   "metadata": {},
   "outputs": [],
   "source": [
    "img = train[:,0].reshape([28,28])"
   ]
  },
  {
   "cell_type": "markdown",
   "metadata": {},
   "source": [
    "To look at the image, we can use Matplotlib's imshow function. We give it the image, plus a color map which maps the data values 0..255 to grayscale colors:"
   ]
  },
  {
   "cell_type": "code",
   "execution_count": 7,
   "metadata": {},
   "outputs": [
    {
     "data": {
      "text/plain": [
       "<matplotlib.image.AxesImage at 0x7776a57e4400>"
      ]
     },
     "execution_count": 7,
     "metadata": {},
     "output_type": "execute_result"
    },
    {
     "data": {
      "image/png": "[encoded data removed]",
      "text/plain": [
       "<Figure size 432x288 with 1 Axes>"
      ]
     },
     "metadata": {
      "needs_background": "light"
     },
     "output_type": "display_data"
    }
   ],
   "source": [
    "plt.imshow(img,cmap='gray')"
   ]
  },
  {
   "cell_type": "markdown",
   "metadata": {},
   "source": [
    "Try some different images:"
   ]
  },
  {
   "cell_type": "code",
   "execution_count": 8,
   "metadata": {},
   "outputs": [
    {
     "data": {
      "text/plain": [
       "<matplotlib.image.AxesImage at 0x7776a49ddc10>"
      ]
     },
     "execution_count": 8,
     "metadata": {},
     "output_type": "execute_result"
    },
    {
     "data": {
      "image/png": "[encoded data removed]",
      "text/plain": [
       "<Figure size 432x288 with 1 Axes>"
      ]
     },
     "metadata": {
      "needs_background": "light"
     },
     "output_type": "display_data"
    }
   ],
   "source": [
    "img2 = train[:,7].reshape([28,28])\n",
    "plt.imshow(img2,cmap='gray')"
   ]
  },
  {
   "cell_type": "markdown",
   "metadata": {},
   "source": [
    "> Question 1) Now create a 10x10 array of the first 100 images and show it below. It's probably easiest to make a 280 x 280 array, and fill it with the individual images. Be sure to scale your displayed image so that it is big enough to see individual images, i.e., so that it fills most of the browser window. "
   ]
  },
  {
   "cell_type": "code",
   "execution_count": 9,
   "metadata": {},
   "outputs": [
    {
     "data": {
      "text/plain": [
       "<matplotlib.image.AxesImage at 0x77769b27a250>"
      ]
     },
     "execution_count": 9,
     "metadata": {},
     "output_type": "execute_result"
    },
    {
     "data": {
      "image/png": "[encoded data removed]",
      "text/plain": [
       "<Figure size 1440x1440 with 1 Axes>"
      ]
     },
     "metadata": {
      "needs_background": "light"
     },
     "output_type": "display_data"
    }
   ],
   "source": [
    "# Add your code here\n",
    "arr = np.array([train[:,i].reshape([28, 28]) for i in range(100)])\n",
    "\n",
    "img = arr.reshape(10, 10, 28, 28).swapaxes(1, 2).reshape(280, 280)\n",
    "\n",
    "plt.figure(figsize=(20, 20))\n",
    "plt.imshow(img,cmap='gray')"
   ]
  },
  {
   "cell_type": "markdown",
   "metadata": {},
   "source": [
    "## Computing Test/Train Set Distances"
   ]
  },
  {
   "cell_type": "markdown",
   "metadata": {},
   "source": [
    "Next we need to compute the pairwise distances between our test and training set. Check the test set dimensions:"
   ]
  },
  {
   "cell_type": "code",
   "execution_count": 10,
   "metadata": {},
   "outputs": [
    {
     "data": {
      "text/plain": [
       "2000"
      ]
     },
     "execution_count": 10,
     "metadata": {},
     "output_type": "execute_result"
    }
   ],
   "source": [
    "test0=np.loadtxt(\"test.fmat.txt\")\n",
    "test=test0[:,0:2000]\n",
    "ntest=test.shape[1];ntest"
   ]
  },
  {
   "cell_type": "markdown",
   "metadata": {},
   "source": [
    "The squared euclidean distance between two vector x and y is the squared length of their difference. We can write it as\n",
    "<pre>(x-y) dot (x-y)</pre>\n",
    "When working with matrices, we can also use a matrix formula, which is\n",
    "<pre>transpose(x-y) * (x-y)</pre>\n",
    "We'll use the shorthand \".T\" for the transpose, and then we can write:\n",
    "<pre>(x-y) dot (x-y) = x dot x - 2 x.T * y + y dot y</pre>\n",
    "This formula works for x and y which are single columns. We chose this combination of dot and transpose product so we can generalize it to matrices of points.\n",
    "\n",
    "We would like to efficiently compute a ntest x ntrain matrix of all pairwise distances using this formula. The first term should be the x dot products, which we can compute like this:"
   ]
  },
  {
   "cell_type": "code",
   "execution_count": 11,
   "metadata": {},
   "outputs": [],
   "source": [
    "xdots = np.sum(np.multiply(test,test),0).reshape(ntest,1) * np.ones((1,ntrain))"
   ]
  },
  {
   "cell_type": "markdown",
   "metadata": {},
   "source": [
    "Note that we had to multiply by a row-vector of ones to reproduce the x-product for each y. The formula for y dot products is similar:"
   ]
  },
  {
   "cell_type": "code",
   "execution_count": 12,
   "metadata": {},
   "outputs": [],
   "source": [
    "ydots = np.ones((ntest, 1)) * np.sum(np.multiply(train,train),0).reshape(1,ntrain) "
   ]
  },
  {
   "cell_type": "markdown",
   "metadata": {},
   "source": [
    "Finally, we can complete the distance formula by adding the cross-terms:"
   ]
  },
  {
   "cell_type": "code",
   "execution_count": 13,
   "metadata": {},
   "outputs": [],
   "source": [
    "dists = xdots + ydots - 2 * np.transpose(test) * train"
   ]
  },
  {
   "cell_type": "markdown",
   "metadata": {},
   "source": [
    "The raw distances will be larger for larger input instances, which is not what we want. We can improve the distance estimate by normalizing the lengths of test and train instances:"
   ]
  },
  {
   "cell_type": "markdown",
   "metadata": {},
   "source": [
    "> Question 2) produce a normalized distance matrix ndists by dividing by the eucliden length of the test and train points. Hint: you already have the squared euclidean lengths of all the test and train points."
   ]
  },
  {
   "cell_type": "code",
   "execution_count": 14,
   "metadata": {},
   "outputs": [
    {
     "data": {
      "text/plain": [
       "matrix([[0.7853566 , 0.96131486, 0.7929225 , ..., 1.16516323, 0.79052313,\n",
       "         0.95606527],\n",
       "        [1.11266366, 1.16664136, 1.20897   , ..., 1.02687224, 1.32644407,\n",
       "         1.05984584],\n",
       "        [0.7569449 , 0.90333405, 0.74540448, ..., 0.93924188, 0.96107582,\n",
       "         0.75469207],\n",
       "        ...,\n",
       "        [0.69340884, 0.9177043 , 0.91099519, ..., 0.5728618 , 0.93560765,\n",
       "         0.98767431],\n",
       "        [0.8444855 , 0.95648327, 0.84036295, ..., 1.05495268, 0.5726987 ,\n",
       "         0.78884989],\n",
       "        [0.56043379, 0.90251748, 0.88093242, ..., 0.75767267, 0.75383978,\n",
       "         0.81801112]])"
      ]
     },
     "execution_count": 14,
     "metadata": {},
     "output_type": "execute_result"
    }
   ],
   "source": [
    "ndists = dists / np.sqrt(dists.sum())\n",
    "ndists"
   ]
  },
  {
   "cell_type": "markdown",
   "metadata": {},
   "source": [
    "Now the i-th row of the distance matrix is the vector of distances from the i-th test point to the training points. To get the closest neighbors, we can sort this array along its rows (axis = 1). The argsort function returns the index of the closest points, which we can use to lookup their label. "
   ]
  },
  {
   "cell_type": "code",
   "execution_count": 15,
   "metadata": {},
   "outputs": [
    {
     "data": {
      "text/plain": [
       "matrix([[1673, 3298, 3324, ..., 2009, 3607, 3106],\n",
       "        [1609, 2184, 1874, ..., 1845, 3370, 1215],\n",
       "        [1697, 2301, 1658, ..., 1963, 1999, 1367],\n",
       "        ...,\n",
       "        [  98, 1130, 3674, ..., 1448, 1466, 3370],\n",
       "        [1720, 1960, 3678, ...,  121, 3016, 3106],\n",
       "        [3170, 1514, 1378, ..., 1999, 3607, 3370]])"
      ]
     },
     "execution_count": 15,
     "metadata": {},
     "output_type": "execute_result"
    }
   ],
   "source": [
    "ibest = np.argsort(ndists,axis=1); ibest"
   ]
  },
  {
   "cell_type": "markdown",
   "metadata": {},
   "source": [
    "To look up the distances along a given row, we can use the ibest array to provide the column (training point) indices. "
   ]
  },
  {
   "cell_type": "code",
   "execution_count": 16,
   "metadata": {},
   "outputs": [
    {
     "data": {
      "text/plain": [
       "matrix([[0.16431495, 0.17260412, 0.18600523, ..., 1.75966414, 1.81177923,\n",
       "         1.86372766]])"
      ]
     },
     "execution_count": 16,
     "metadata": {},
     "output_type": "execute_result"
    }
   ],
   "source": [
    "irow = 0\n",
    "ndists[irow,ibest[irow,:]]"
   ]
  },
  {
   "cell_type": "markdown",
   "metadata": {},
   "source": [
    "And then to get their labels we should load the label data matrix:"
   ]
  },
  {
   "cell_type": "code",
   "execution_count": 17,
   "metadata": {},
   "outputs": [],
   "source": [
    "labels = np.loadtxt(\"ictrain.imat.txt\")"
   ]
  },
  {
   "cell_type": "code",
   "execution_count": 18,
   "metadata": {},
   "outputs": [
    {
     "data": {
      "text/plain": [
       "array([[7., 7., 7., ..., 0., 2., 0.]])"
      ]
     },
     "execution_count": 18,
     "metadata": {},
     "output_type": "execute_result"
    }
   ],
   "source": [
    "labels[ibest[irow,:]]"
   ]
  },
  {
   "cell_type": "markdown",
   "metadata": {},
   "source": [
    "> Question 3) What label is the best match for test point 0? "
   ]
  },
  {
   "cell_type": "markdown",
   "metadata": {},
   "source": [
    "The best label for test point 0 is 7.\n"
   ]
  },
  {
   "cell_type": "markdown",
   "metadata": {},
   "source": [
    "Now we'll restrict ourselves to the k-nearest neighbors. We currently have all the neighbors as columns of the dists and ibest matrices. Let's produce the labels of only the k-nearest, which is simply:"
   ]
  },
  {
   "cell_type": "code",
   "execution_count": 19,
   "metadata": {},
   "outputs": [],
   "source": [
    "k = 3"
   ]
  },
  {
   "cell_type": "code",
   "execution_count": 20,
   "metadata": {},
   "outputs": [
    {
     "data": {
      "text/plain": [
       "array([[7., 7., 7., ..., 0., 2., 0.],\n",
       "       [2., 2., 2., ..., 4., 4., 4.],\n",
       "       [1., 1., 1., ..., 0., 0., 0.],\n",
       "       ...,\n",
       "       [3., 3., 3., ..., 4., 6., 4.],\n",
       "       [9., 9., 9., ..., 0., 0., 0.],\n",
       "       [5., 5., 3., ..., 0., 2., 4.]])"
      ]
     },
     "execution_count": 20,
     "metadata": {},
     "output_type": "execute_result"
    }
   ],
   "source": [
    "knlabels = labels[ibest]; knlabels"
   ]
  },
  {
   "cell_type": "markdown",
   "metadata": {},
   "source": [
    "to get the k-nearest distances, we can sort the distances directly:"
   ]
  },
  {
   "cell_type": "code",
   "execution_count": 21,
   "metadata": {},
   "outputs": [
    {
     "data": {
      "text/plain": [
       "matrix([[0.16431495, 0.17260412, 0.18600523, ..., 1.75966414, 1.81177923,\n",
       "         1.86372766]])"
      ]
     },
     "execution_count": 21,
     "metadata": {},
     "output_type": "execute_result"
    }
   ],
   "source": [
    "ndists[0,ibest[0,:]]"
   ]
  },
  {
   "cell_type": "markdown",
   "metadata": {},
   "source": [
    "Now, let's find the majority vote for each label. First we need to count the votes in a matrix whose columns are the possible digits. You'll need to do this with loops, since Python lacks a general accumulate function."
   ]
  },
  {
   "cell_type": "code",
   "execution_count": 22,
   "metadata": {},
   "outputs": [],
   "source": [
    "votes = np.zeros((ntest,10))"
   ]
  },
  {
   "cell_type": "markdown",
   "metadata": {},
   "source": [
    "> Question 4) Write code to fill out the votes array with the predicted labels using the k nearest neighbors."
   ]
  },
  {
   "cell_type": "code",
   "execution_count": 23,
   "metadata": {},
   "outputs": [],
   "source": [
    "# Add your code here\n",
    "for row in range(len(votes)):\n",
    "    knlabels = labels[ibest][row][0:k]\n",
    "    for label in knlabels:\n",
    "        votes[row][int(label)] += 1\n"
   ]
  },
  {
   "cell_type": "markdown",
   "metadata": {},
   "source": [
    "Then we can find the position of the maximum of the votes, which will also be the digit label:"
   ]
  },
  {
   "cell_type": "code",
   "execution_count": 24,
   "metadata": {},
   "outputs": [
    {
     "data": {
      "text/plain": [
       "array([7, 2, 1, ..., 3, 9, 5])"
      ]
     },
     "execution_count": 24,
     "metadata": {},
     "output_type": "execute_result"
    }
   ],
   "source": [
    "bestlabels = np.argmax(votes, axis=1); bestlabels"
   ]
  },
  {
   "cell_type": "markdown",
   "metadata": {},
   "source": [
    "How well did we do? Let's load the test labels and see:"
   ]
  },
  {
   "cell_type": "code",
   "execution_count": 25,
   "metadata": {},
   "outputs": [],
   "source": [
    "testlabels0 = np.loadtxt(\"ictest.imat.txt\")\n",
    "testlabels = testlabels0[0:ntest]"
   ]
  },
  {
   "cell_type": "markdown",
   "metadata": {},
   "source": [
    "We can directly compare the bestlabels (predicted) and the testlabels with == to compute matches. Matching labels will produce a 1 or 0 otherwise. To find the fraction of matches we simply take the mean of the 0-1 values. "
   ]
  },
  {
   "cell_type": "code",
   "execution_count": 26,
   "metadata": {},
   "outputs": [
    {
     "data": {
      "text/plain": [
       "0.8965"
      ]
     },
     "execution_count": 26,
     "metadata": {},
     "output_type": "execute_result"
    }
   ],
   "source": [
    "accuracy = np.mean(bestlabels == testlabels); accuracy"
   ]
  },
  {
   "cell_type": "markdown",
   "metadata": {},
   "source": [
    "Now lets try some other values of k. To speed things up, we'll skip the expensive sort steps, which we've already done anyway. "
   ]
  },
  {
   "cell_type": "code",
   "execution_count": 27,
   "metadata": {},
   "outputs": [
    {
     "data": {
      "text/plain": [
       "0.8835"
      ]
     },
     "execution_count": 27,
     "metadata": {},
     "output_type": "execute_result"
    }
   ],
   "source": [
    "k = 2\n",
    "\n",
    "votes = np.zeros((ntest,10))\n",
    "\n",
    "for row in range(len(votes)):\n",
    "    knlabels = labels[ibest][row][0:k]\n",
    "    for label in knlabels:\n",
    "        votes[row][int(label)] += 1\n",
    "  \n",
    "bestlabels = np.argmax(votes, axis=1)\n",
    "\n",
    "np.mean(bestlabels == testlabels)"
   ]
  },
  {
   "cell_type": "markdown",
   "metadata": {},
   "source": [
    "> Question 5) What was the best value of k <= 10? What is the corresponding accuracy? "
   ]
  },
  {
   "cell_type": "code",
   "execution_count": 28,
   "metadata": {},
   "outputs": [
    {
     "name": "stdout",
     "output_type": "stream",
     "text": [
      "k: 1, accuracy: 0.8985\n",
      "k: 2, accuracy: 0.8835\n",
      "k: 3, accuracy: 0.8965\n",
      "k: 4, accuracy: 0.897\n",
      "k: 5, accuracy: 0.894\n",
      "k: 6, accuracy: 0.893\n",
      "k: 7, accuracy: 0.8905\n",
      "k: 8, accuracy: 0.89\n",
      "k: 9, accuracy: 0.887\n",
      "k: 10, accuracy: 0.886\n",
      "Best k: 1, accuracy: 0.8985\n"
     ]
    }
   ],
   "source": [
    "# Add your response here\n",
    "\n",
    "best_acc = float('-inf')\n",
    "best_k = 0\n",
    "\n",
    "for k in range(1, 11):\n",
    "    \n",
    "    votes = np.zeros((ntest,10))\n",
    "    \n",
    "    for row in range(len(votes)):\n",
    "        knlabels = labels[ibest][row][0:k]\n",
    "        for label in knlabels:\n",
    "            votes[row][int(label)] += 1\n",
    "\n",
    "    bestlabels = np.argmax(votes, axis=1)\n",
    "\n",
    "    acc = np.mean(bestlabels == testlabels)\n",
    "    \n",
    "    if acc > best_acc:\n",
    "        best_acc = np.mean(bestlabels == testlabels)\n",
    "        best_k = k\n",
    "    \n",
    "    print(f'k: {k}, accuracy: {acc}')\n",
    "\n",
    "print(f'Best k: {best_k}, accuracy: {best_acc}')"
   ]
  },
  {
   "cell_type": "markdown",
   "metadata": {},
   "source": [
    "Now let's try weighting by inverse distance. Modify the last compute cell to use the inverse distance (you probably want to use the kndists matrix) as the vote. "
   ]
  },
  {
   "cell_type": "code",
   "execution_count": 29,
   "metadata": {},
   "outputs": [
    {
     "data": {
      "text/plain": [
       "0.8985"
      ]
     },
     "execution_count": 29,
     "metadata": {},
     "output_type": "execute_result"
    }
   ],
   "source": [
    "k = 2\n",
    "\n",
    "votes = np.zeros((ntest,10))\n",
    "\n",
    "for row in range(len(votes)):\n",
    "    knlabels = labels[ibest][row][0:k]\n",
    "    dists = ndists[row, ibest[row, 0:k]].reshape(-1)\n",
    "\n",
    "    for i, label in enumerate(knlabels):\n",
    "        votes[row][int(label)] += (1 / dists[0, i])\n",
    "        \n",
    "bestlabels = np.argmax(votes, axis=1)\n",
    "\n",
    "np.mean(bestlabels == testlabels)"
   ]
  },
  {
   "cell_type": "markdown",
   "metadata": {},
   "source": [
    "> Question 6) Now what is the next value of k <= 10? What is the corresponding accuracy? "
   ]
  },
  {
   "cell_type": "code",
   "execution_count": 30,
   "metadata": {},
   "outputs": [
    {
     "name": "stdout",
     "output_type": "stream",
     "text": [
      "k: 1, accuracy: 0.8985\n",
      "k: 2, accuracy: 0.8985\n",
      "k: 3, accuracy: 0.9065\n",
      "k: 4, accuracy: 0.907\n",
      "k: 5, accuracy: 0.8995\n",
      "k: 6, accuracy: 0.9\n",
      "k: 7, accuracy: 0.8955\n",
      "k: 8, accuracy: 0.8985\n",
      "k: 9, accuracy: 0.8945\n",
      "k: 10, accuracy: 0.892\n",
      "Best k: 4, accuracy: 0.907\n"
     ]
    }
   ],
   "source": [
    "# Add your response here\n",
    "\n",
    "best_acc = float('-inf')\n",
    "best_k = 0\n",
    "\n",
    "for k in range(1, 11):\n",
    "    \n",
    "    votes = np.zeros((ntest,10))\n",
    "    \n",
    "    for row in range(len(votes)):\n",
    "        knlabels = labels[ibest][row][0:k]\n",
    "        dists = ndists[row, ibest[row, 0:k]]\n",
    "\n",
    "        for i, label in enumerate(knlabels):\n",
    "            votes[row][int(label)] += (1 / dists[0, i])\n",
    "\n",
    "    bestlabels = np.argmax(votes, axis=1)\n",
    "\n",
    "    acc = np.mean(bestlabels == testlabels)\n",
    "    \n",
    "    if acc > best_acc:\n",
    "        best_acc = np.mean(bestlabels == testlabels)\n",
    "        best_k = k\n",
    "    \n",
    "    print(f'k: {k}, accuracy: {acc}')\n",
    "\n",
    "print(f'Best k: {best_k}, accuracy: {best_acc}')"
   ]
  },
  {
   "cell_type": "markdown",
   "metadata": {},
   "source": [
    "# Naive Bayes"
   ]
  },
  {
   "cell_type": "markdown",
   "metadata": {},
   "source": [
    "Read the documentation for Naive Bayes in Scikit-learn here http://scikit-learn.org/stable/modules/naive_bayes.html .\n",
    "    This section uses Scikit-learn, which is installed through Anaconda (if for some reason it is not already installed, use the Anaconda GUI or Prompt to install `scikit-learn`).\n",
    "\n",
    "We want to classify our image data, and so we have to choose a feature distribution. Although the data for MNIST are real 0..255 brightness values, most values are either 0's or 255's so we'll threshold them to produce binary features. Then we can use the Bernoulli Naive Bayes classifier. \n",
    "\n",
    "We also need to transpose the data: Sckikit-learn expects data points to be rows rather than columns."
   ]
  },
  {
   "cell_type": "code",
   "execution_count": 31,
   "metadata": {
    "pycharm": {
     "is_executing": true
    }
   },
   "outputs": [],
   "source": [
    "btrain = np.transpose(train > 128)\n",
    "btest = np.transpose(test > 128)"
   ]
  },
  {
   "cell_type": "markdown",
   "metadata": {},
   "source": [
    "Now import the BernoulliNB classifier:"
   ]
  },
  {
   "cell_type": "code",
   "execution_count": 32,
   "metadata": {},
   "outputs": [],
   "source": [
    "from sklearn.naive_bayes import BernoulliNB\n",
    "nb = BernoulliNB()"
   ]
  },
  {
   "cell_type": "markdown",
   "metadata": {},
   "source": [
    "Which creates a new Bernoulli Naive Bayes classifier. Now train the classifier on your binarized training data. "
   ]
  },
  {
   "cell_type": "code",
   "execution_count": 33,
   "metadata": {},
   "outputs": [
    {
     "name": "stderr",
     "output_type": "stream",
     "text": [
      "/home/andrewebes05/anaconda3/lib/python3.9/site-packages/sklearn/utils/validation.py:593: FutureWarning: np.matrix usage is deprecated in 1.0 and will raise a TypeError in 1.2. Please convert to a numpy array with np.asarray. For more information see: https://numpy.org/doc/stable/reference/generated/numpy.matrix.html\n",
      "  warnings.warn(\n"
     ]
    }
   ],
   "source": [
    "model = nb.fit(btrain, labels)"
   ]
  },
  {
   "cell_type": "markdown",
   "metadata": {},
   "source": [
    "Use the model to predict the labels of the binarized test data:"
   ]
  },
  {
   "cell_type": "code",
   "execution_count": 34,
   "metadata": {},
   "outputs": [],
   "source": [
    "nbpreds = model.predict(btest)"
   ]
  },
  {
   "cell_type": "markdown",
   "metadata": {},
   "source": [
    "And evaluate the predictions compared to the actual labels"
   ]
  },
  {
   "cell_type": "code",
   "execution_count": 35,
   "metadata": {},
   "outputs": [
    {
     "data": {
      "text/plain": [
       "0.7805"
      ]
     },
     "execution_count": 35,
     "metadata": {},
     "output_type": "execute_result"
    }
   ],
   "source": [
    "np.mean(nbpreds == testlabels)"
   ]
  },
  {
   "cell_type": "markdown",
   "metadata": {},
   "source": [
    "> Question 7) How did the accuracy of Naive Bayes compare with the kNN classifier on this data? "
   ]
  },
  {
   "cell_type": "markdown",
   "metadata": {},
   "source": [
    "The Naive Bayes was less accurate compared to the kNN classifier on this data."
   ]
  },
  {
   "cell_type": "markdown",
   "metadata": {},
   "source": [
    "> Question 8) How well do you think this dataset fits the assumptions of the kNN and Naive Bayes models respectively?"
   ]
  },
  {
   "cell_type": "markdown",
   "metadata": {},
   "source": [
    "The assumptions of this dataset fits well with the assumptions of kNN because kNN is a discrimative classifier which is more focused on mapping inputs to an output category. The assumptions don't fit as well with Naive Bayes because it is a generative classifier, attempting to determine relationships within the data, and isn't as suited for image recognition which is stronger when determining similar images."
   ]
  },
  {
   "cell_type": "markdown",
   "metadata": {},
   "source": [
    "# Diagnosing Performance: Confusion Matrices"
   ]
  },
  {
   "cell_type": "markdown",
   "metadata": {},
   "source": [
    "Let's dig a bit deeper into the results from both classifiers. One useful tool is a confusion matrix: this is a matrix index by the true labels and predicted labels, and holds the normalized counts of values in each element. We can form the matrix as follows.\n",
    "\n",
    "We start with a matrix C such that C[i,j] is a count of the points with predicted label i and true label j. We then normalize C so that its columns add up to 1. Then the j^th column corresponds to true label j, and is a vector of the probabilities that a true label of j is classified as one of the other labels. "
   ]
  },
  {
   "cell_type": "code",
   "execution_count": 36,
   "metadata": {},
   "outputs": [],
   "source": [
    "def confCount(a0, b0):\n",
    "    a = a0.astype('int64')\n",
    "    b = b0.astype('int64')\n",
    "    counts = np.zeros((10,10))\n",
    "    for i in range(0,a.size):\n",
    "        counts[b[i],a[i]] += 1\n",
    "    return counts           \n",
    "            "
   ]
  },
  {
   "cell_type": "markdown",
   "metadata": {},
   "source": [
    "In the cell below, we compute the confusion matrix for the Naive Bayes classifier. "
   ]
  },
  {
   "cell_type": "code",
   "execution_count": 37,
   "metadata": {},
   "outputs": [
    {
     "data": {
      "text/plain": [
       "array([[0.85714286, 0.        , 0.01142857, 0.        , 0.00571429,\n",
       "        0.02857143, 0.02857143, 0.        , 0.00571429, 0.00571429],\n",
       "       [0.        , 0.95726496, 0.03418803, 0.01709402, 0.00854701,\n",
       "        0.00854701, 0.01282051, 0.05555556, 0.01709402, 0.0042735 ],\n",
       "       [0.00456621, 0.        , 0.75342466, 0.00456621, 0.        ,\n",
       "        0.00913242, 0.0456621 , 0.02283105, 0.02283105, 0.        ],\n",
       "       [0.        , 0.        , 0.04830918, 0.79227053, 0.        ,\n",
       "        0.11594203, 0.        , 0.        , 0.09661836, 0.01932367],\n",
       "       [0.        , 0.        , 0.00460829, 0.00460829, 0.75576037,\n",
       "        0.02764977, 0.04608295, 0.03225806, 0.02764977, 0.09677419],\n",
       "       [0.05027933, 0.03351955, 0.00558659, 0.07821229, 0.00558659,\n",
       "        0.67597765, 0.03910615, 0.00558659, 0.0726257 , 0.01117318],\n",
       "       [0.03932584, 0.01123596, 0.04494382, 0.02247191, 0.03370787,\n",
       "        0.01685393, 0.78651685, 0.        , 0.01123596, 0.        ],\n",
       "       [0.        , 0.        , 0.02439024, 0.02926829, 0.00487805,\n",
       "        0.0195122 , 0.        , 0.76097561, 0.01463415, 0.01463415],\n",
       "       [0.04166667, 0.01041667, 0.078125  , 0.03125   , 0.015625  ,\n",
       "        0.02083333, 0.015625  , 0.02083333, 0.61979167, 0.02083333],\n",
       "       [0.        , 0.        , 0.02061856, 0.03608247, 0.20103093,\n",
       "        0.04123711, 0.        , 0.09793814, 0.09793814, 0.81443299]])"
      ]
     },
     "execution_count": 37,
     "metadata": {},
     "output_type": "execute_result"
    }
   ],
   "source": [
    "ccounts = confCount(testlabels, nbpreds)\n",
    "conf = ccounts / sum(ccounts).reshape(10,1)\n",
    "conf"
   ]
  },
  {
   "cell_type": "markdown",
   "metadata": {},
   "source": [
    "> Question 9) Now in the cell below create a grayscale visualization of the confusion matrix. i.e. a 10 x 10 image whose elements are in the range 0..255 and are 255 times the values of the confusion matrix. "
   ]
  },
  {
   "cell_type": "code",
   "execution_count": 38,
   "metadata": {},
   "outputs": [
    {
     "data": {
      "text/plain": [
       "<matplotlib.image.AxesImage at 0x7776987651f0>"
      ]
     },
     "execution_count": 38,
     "metadata": {},
     "output_type": "execute_result"
    },
    {
     "data": {
      "image/png": "[encoded data removed]",
      "text/plain": [
       "<Figure size 1440x1440 with 1 Axes>"
      ]
     },
     "metadata": {
      "needs_background": "light"
     },
     "output_type": "display_data"
    }
   ],
   "source": [
    "# Add your code here\n",
    "\n",
    "conf_img = conf * 255\n",
    "\n",
    "plt.figure(figsize=(20, 20))\n",
    "plt.imshow(conf_img, cmap='gray')"
   ]
  },
  {
   "cell_type": "markdown",
   "metadata": {},
   "source": [
    "Using the vizualization or the matrix itself, answer these questions:\n",
    "\n",
    "> Question 10) Which digit is misclassified most often? How did you derive your answer from the confusion matrix?\n",
    "\n",
    "> Question 11) How many mislabeled pairs are there (a pair of correct digits, incorrectly label) which have probability > 0.05 ? "
   ]
  },
  {
   "cell_type": "markdown",
   "metadata": {},
   "source": [
    "The digit 8 is misclassified the most often, demonstrated by the darkest square in the diagonal."
   ]
  },
  {
   "cell_type": "code",
   "execution_count": 39,
   "metadata": {},
   "outputs": [
    {
     "name": "stdout",
     "output_type": "stream",
     "text": [
      "Mislabeled pair: (1, 7)\n",
      "Mislabeled pair: (3, 5)\n",
      "Mislabeled pair: (3, 8)\n",
      "Mislabeled pair: (4, 9)\n",
      "Mislabeled pair: (5, 0)\n",
      "Mislabeled pair: (5, 3)\n",
      "Mislabeled pair: (5, 8)\n",
      "Mislabeled pair: (8, 2)\n",
      "Mislabeled pair: (9, 4)\n",
      "Mislabeled pair: (9, 7)\n",
      "Mislabeled pair: (9, 8)\n",
      "Total count: 11\n"
     ]
    }
   ],
   "source": [
    "# Add your Question 11 response here\n",
    "count = 0\n",
    "for i in range(10):\n",
    "    for j in range(10):\n",
    "        if i != j and (conf[i][j] > 0.05):\n",
    "            print(f'Mislabeled pair: {i,j}')\n",
    "            count += 1\n",
    "            \n",
    "print(f'Total count: {count}')"
   ]
  },
  {
   "cell_type": "markdown",
   "metadata": {},
   "source": [
    "Done! Save and submit your notebook on Canvas!"
   ]
  }
 ],
 "metadata": {
  "kernelspec": {
   "display_name": "Python 3 (ipykernel)",
   "language": "python",
   "name": "python3"
  },
  "language_info": {
   "codemirror_mode": {
    "name": "ipython",
    "version": 3
   },
   "file_extension": ".py",
   "mimetype": "text/x-python",
   "name": "python",
   "nbconvert_exporter": "python",
   "pygments_lexer": "ipython3",
   "version": "3.9.12"
  }
 },
 "nbformat": 4,
 "nbformat_minor": 1
}
